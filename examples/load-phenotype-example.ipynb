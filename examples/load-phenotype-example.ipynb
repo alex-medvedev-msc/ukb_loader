{
 "cells": [
  {
   "cell_type": "code",
   "execution_count": null,
   "metadata": {},
   "outputs": [],
   "source": [
    "# Installing the library via pip\n",
    "\n",
    "!pip install --user bed-reader ukb_loader"
   ]
  },
  {
   "cell_type": "code",
   "execution_count": 1,
   "metadata": {},
   "outputs": [],
   "source": [
    "import os\n",
    "\n",
    "split_dir = '/gpfs/gpfs0/ukb_data/processed_data/all/splits'\n",
    "split_path = f'{split_dir}/white_british'\n",
    "\n",
    "if not os.path.exists('/gpfs/gpfs0/ukb_data/processed_data/all'):\n",
    "    os.mkdir('/gpfs/gpfs0/ukb_data/processed_data/all')"
   ]
  },
  {
   "cell_type": "markdown",
   "metadata": {},
   "source": [
    "## Real-valued phenotypes\n",
    "\n",
    "Real-valued phenotypes are loaded with the `UKBDataLoader` class. For example, for the phenotype 'standing height' (data field number 50), together with additional features sex and age (data fields 31, 21003):"
   ]
  },
  {
   "cell_type": "code",
   "execution_count": 2,
   "metadata": {},
   "outputs": [],
   "source": [
    "from ukb_loader import UKBDataLoader"
   ]
  },
  {
   "cell_type": "code",
   "execution_count": 3,
   "metadata": {},
   "outputs": [
    {
     "data": {
      "text/html": [
       "<div>\n",
       "<style scoped>\n",
       "    .dataframe tbody tr th:only-of-type {\n",
       "        vertical-align: middle;\n",
       "    }\n",
       "\n",
       "    .dataframe tbody tr th {\n",
       "        vertical-align: top;\n",
       "    }\n",
       "\n",
       "    .dataframe thead th {\n",
       "        text-align: right;\n",
       "    }\n",
       "</style>\n",
       "<table border=\"1\" class=\"dataframe\">\n",
       "  <thead>\n",
       "    <tr style=\"text-align: right;\">\n",
       "      <th></th>\n",
       "      <th>21003</th>\n",
       "      <th>31</th>\n",
       "      <th>50</th>\n",
       "    </tr>\n",
       "  </thead>\n",
       "  <tbody>\n",
       "    <tr>\n",
       "      <th>1000011</th>\n",
       "      <td>60.0</td>\n",
       "      <td>0.0</td>\n",
       "      <td>164.0</td>\n",
       "    </tr>\n",
       "    <tr>\n",
       "      <th>1000026</th>\n",
       "      <td>45.0</td>\n",
       "      <td>0.0</td>\n",
       "      <td>164.0</td>\n",
       "    </tr>\n",
       "    <tr>\n",
       "      <th>1000044</th>\n",
       "      <td>42.0</td>\n",
       "      <td>0.0</td>\n",
       "      <td>165.0</td>\n",
       "    </tr>\n",
       "    <tr>\n",
       "      <th>1000058</th>\n",
       "      <td>57.0</td>\n",
       "      <td>0.0</td>\n",
       "      <td>167.5</td>\n",
       "    </tr>\n",
       "    <tr>\n",
       "      <th>1000060</th>\n",
       "      <td>67.0</td>\n",
       "      <td>0.0</td>\n",
       "      <td>156.0</td>\n",
       "    </tr>\n",
       "  </tbody>\n",
       "</table>\n",
       "</div>"
      ],
      "text/plain": [
       "         21003   31     50\n",
       "1000011   60.0  0.0  164.0\n",
       "1000026   45.0  0.0  164.0\n",
       "1000044   42.0  0.0  165.0\n",
       "1000058   57.0  0.0  167.5\n",
       "1000060   67.0  0.0  156.0"
      ]
     },
     "execution_count": 3,
     "metadata": {},
     "output_type": "execute_result"
    }
   ],
   "source": [
    "loader = UKBDataLoader(split_dir, 'white_british', '50', ['21003', '31'])\n",
    "train, val, test = loader.load_train(), loader.load_val(), loader.load_test()\n",
    "train.head()"
   ]
  },
  {
   "cell_type": "markdown",
   "metadata": {},
   "source": [
    "## ICD-10 phenotypes\n",
    "\n",
    "Phenotypes based on [ICD-10 disease codes](https://biobank.ndph.ox.ac.uk/showcase/field.cgi?id=41270) are loaded with `BinaryICDLoader`. For example, loading non-insulin dependent diabetes mellitus without complications with code E11.9:"
   ]
  },
  {
   "cell_type": "code",
   "execution_count": 4,
   "metadata": {},
   "outputs": [],
   "source": [
    "from ukb_loader import BinaryICDLoader"
   ]
  },
  {
   "cell_type": "code",
   "execution_count": 5,
   "metadata": {},
   "outputs": [
    {
     "data": {
      "text/html": [
       "<div>\n",
       "<style scoped>\n",
       "    .dataframe tbody tr th:only-of-type {\n",
       "        vertical-align: middle;\n",
       "    }\n",
       "\n",
       "    .dataframe tbody tr th {\n",
       "        vertical-align: top;\n",
       "    }\n",
       "\n",
       "    .dataframe thead th {\n",
       "        text-align: right;\n",
       "    }\n",
       "</style>\n",
       "<table border=\"1\" class=\"dataframe\">\n",
       "  <thead>\n",
       "    <tr style=\"text-align: right;\">\n",
       "      <th></th>\n",
       "      <th>31</th>\n",
       "      <th>50</th>\n",
       "      <th>21002</th>\n",
       "      <th>41270</th>\n",
       "    </tr>\n",
       "  </thead>\n",
       "  <tbody>\n",
       "    <tr>\n",
       "      <th>1000044</th>\n",
       "      <td>0.0</td>\n",
       "      <td>165.000000</td>\n",
       "      <td>60.599998</td>\n",
       "      <td>0.0</td>\n",
       "    </tr>\n",
       "    <tr>\n",
       "      <th>1000058</th>\n",
       "      <td>0.0</td>\n",
       "      <td>167.500000</td>\n",
       "      <td>56.200001</td>\n",
       "      <td>0.0</td>\n",
       "    </tr>\n",
       "    <tr>\n",
       "      <th>1000060</th>\n",
       "      <td>0.0</td>\n",
       "      <td>156.000000</td>\n",
       "      <td>71.500000</td>\n",
       "      <td>0.0</td>\n",
       "    </tr>\n",
       "    <tr>\n",
       "      <th>1000075</th>\n",
       "      <td>0.0</td>\n",
       "      <td>157.199997</td>\n",
       "      <td>58.400002</td>\n",
       "      <td>0.0</td>\n",
       "    </tr>\n",
       "    <tr>\n",
       "      <th>1000097</th>\n",
       "      <td>0.0</td>\n",
       "      <td>162.500000</td>\n",
       "      <td>79.599998</td>\n",
       "      <td>0.0</td>\n",
       "    </tr>\n",
       "  </tbody>\n",
       "</table>\n",
       "</div>"
      ],
      "text/plain": [
       "          31          50      21002  41270\n",
       "1000044  0.0  165.000000  60.599998    0.0\n",
       "1000058  0.0  167.500000  56.200001    0.0\n",
       "1000060  0.0  156.000000  71.500000    0.0\n",
       "1000075  0.0  157.199997  58.400002    0.0\n",
       "1000097  0.0  162.500000  79.599998    0.0"
      ]
     },
     "execution_count": 5,
     "metadata": {},
     "output_type": "execute_result"
    }
   ],
   "source": [
    "icd_field_code = '41270' # do not change that for ICD loader!\n",
    "icd_disease_code = 'E119' # E11.9 - non-insulin dependent diabetes mellitus without complications\n",
    "features = ['31', '50', '21002'] # sex, height, age\n",
    "split_name = 'white_british'\n",
    "loader = BinaryICDLoader(split_dir, split_name, icd_field_code, features, icd_disease_code) \n",
    "\n",
    "train, val, test = loader.load_train(), loader.load_val(), loader.load_test()\n",
    "train.head()"
   ]
  },
  {
   "cell_type": "markdown",
   "metadata": {},
   "source": [
    "## Self-reported phenotypes\n",
    "\n",
    "Self-reported diseases are loaded through `BinarySDLoader`, with the appropriate field code - 20002 for non-cancer illnesses, and 20001 for cancerous ones.\n",
    "\n",
    "* [List of non-cancer disease codes](https://biobank.ndph.ox.ac.uk/showcase/coding.cgi?id=6)\n",
    "* [List of cancerous disease codes](https://biobank.ndph.ox.ac.uk/showcase/coding.cgi?id=3)\n",
    "\n",
    "For example, for (non-cancer) diabetes:"
   ]
  },
  {
   "cell_type": "code",
   "execution_count": 6,
   "metadata": {},
   "outputs": [],
   "source": [
    "from ukb_loader import BinarySDLoader"
   ]
  },
  {
   "cell_type": "code",
   "execution_count": 7,
   "metadata": {},
   "outputs": [
    {
     "data": {
      "text/html": [
       "<div>\n",
       "<style scoped>\n",
       "    .dataframe tbody tr th:only-of-type {\n",
       "        vertical-align: middle;\n",
       "    }\n",
       "\n",
       "    .dataframe tbody tr th {\n",
       "        vertical-align: top;\n",
       "    }\n",
       "\n",
       "    .dataframe thead th {\n",
       "        text-align: right;\n",
       "    }\n",
       "</style>\n",
       "<table border=\"1\" class=\"dataframe\">\n",
       "  <thead>\n",
       "    <tr style=\"text-align: right;\">\n",
       "      <th></th>\n",
       "      <th>31</th>\n",
       "      <th>50</th>\n",
       "      <th>21002</th>\n",
       "      <th>20002</th>\n",
       "    </tr>\n",
       "  </thead>\n",
       "  <tbody>\n",
       "    <tr>\n",
       "      <th>1000011</th>\n",
       "      <td>0.0</td>\n",
       "      <td>164.0</td>\n",
       "      <td>77.699997</td>\n",
       "      <td>0.0</td>\n",
       "    </tr>\n",
       "    <tr>\n",
       "      <th>1000026</th>\n",
       "      <td>0.0</td>\n",
       "      <td>164.0</td>\n",
       "      <td>61.000000</td>\n",
       "      <td>0.0</td>\n",
       "    </tr>\n",
       "    <tr>\n",
       "      <th>1000044</th>\n",
       "      <td>0.0</td>\n",
       "      <td>165.0</td>\n",
       "      <td>60.599998</td>\n",
       "      <td>0.0</td>\n",
       "    </tr>\n",
       "    <tr>\n",
       "      <th>1000058</th>\n",
       "      <td>0.0</td>\n",
       "      <td>167.5</td>\n",
       "      <td>56.200001</td>\n",
       "      <td>0.0</td>\n",
       "    </tr>\n",
       "    <tr>\n",
       "      <th>1000060</th>\n",
       "      <td>0.0</td>\n",
       "      <td>156.0</td>\n",
       "      <td>71.500000</td>\n",
       "      <td>0.0</td>\n",
       "    </tr>\n",
       "  </tbody>\n",
       "</table>\n",
       "</div>"
      ],
      "text/plain": [
       "          31     50      21002  20002\n",
       "1000011  0.0  164.0  77.699997    0.0\n",
       "1000026  0.0  164.0  61.000000    0.0\n",
       "1000044  0.0  165.0  60.599998    0.0\n",
       "1000058  0.0  167.5  56.200001    0.0\n",
       "1000060  0.0  156.0  71.500000    0.0"
      ]
     },
     "execution_count": 7,
     "metadata": {},
     "output_type": "execute_result"
    }
   ],
   "source": [
    "sd_field_code = '20002'\n",
    "sd_disease_code = 1220 # diabetes, umbrella code, includes type I and type II diabetes\n",
    "features = ['31', '50', '21002'] # sex, height, age\n",
    "split_name = 'white_british'\n",
    "loader = BinarySDLoader(split_dir, split_name, sd_field_code, features, sd_disease_code, na_as_false=True) \n",
    "\n",
    "train, val, test = loader.load_train(), loader.load_val(), loader.load_test()\n",
    "train.head()"
   ]
  }
 ],
 "metadata": {
  "kernelspec": {
   "display_name": "Python 3",
   "language": "python",
   "name": "python3"
  },
  "language_info": {
   "codemirror_mode": {
    "name": "ipython",
    "version": 3
   },
   "file_extension": ".py",
   "mimetype": "text/x-python",
   "name": "python",
   "nbconvert_exporter": "python",
   "pygments_lexer": "ipython3",
   "version": "3.7.3"
  }
 },
 "nbformat": 4,
 "nbformat_minor": 2
}
